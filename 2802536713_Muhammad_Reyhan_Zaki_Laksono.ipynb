{
  "nbformat": 4,
  "nbformat_minor": 0,
  "metadata": {
    "colab": {
      "provenance": [],
      "authorship_tag": "ABX9TyO3VQqiggMTLx95wmD5KRRK",
      "include_colab_link": true
    },
    "kernelspec": {
      "name": "python3",
      "display_name": "Python 3"
    },
    "language_info": {
      "name": "python"
    }
  },
  "cells": [
    {
      "cell_type": "markdown",
      "metadata": {
        "id": "view-in-github",
        "colab_type": "text"
      },
      "source": [
        "<a href=\"https://colab.research.google.com/github/Reyz16/Scientific-Computing/blob/main/2802536713_Muhammad_Reyhan_Zaki_Laksono.ipynb\" target=\"_parent\"><img src=\"https://colab.research.google.com/assets/colab-badge.svg\" alt=\"Open In Colab\"/></a>"
      ]
    },
    {
      "cell_type": "code",
      "source": [
        "import numpy as np\n",
        "\n",
        "def my_bisection(f, a, b, tol):\n",
        "    if np.sign(f(a)) == np.sign(f(b)):\n",
        "        raise Exception(\"The scalars a and b do not bound a root\")\n",
        "\n",
        "    m = (a + b) / 2\n",
        "\n",
        "    if np.abs(f(m)) < tol:\n",
        "        return m\n",
        "    elif np.sign(f(a)) == np.sign(f(m)):\n",
        "        return my_bisection(f, m, b, tol)\n",
        "    else:\n",
        "        return my_bisection(f, a, m, tol)\n"
      ],
      "metadata": {
        "id": "7a5SMswDxj3y"
      },
      "execution_count": 1,
      "outputs": []
    },
    {
      "cell_type": "code",
      "source": [
        "import numpy as np\n",
        "\n",
        "def my_bisection(f, a, b, tol):\n",
        "    # Approximates a root, R, of f bounded by a and b to within tolerance tol\n",
        "    # |f(m)| < tol with m the midpoint between a and b\n",
        "    # Recursive implementation\n",
        "\n",
        "    # Check if a and b bound a root\n",
        "    if np.sign(f(a)) == np.sign(f(b)):\n",
        "        raise Exception(\"The scalars a and b do not bound a root\")\n",
        "\n",
        "    # Get midpoint\n",
        "    m = (a + b) / 2\n",
        "\n",
        "    # Stopping condition: |f(m)| < tol\n",
        "    if np.abs(f(m)) < tol:\n",
        "        return m\n",
        "\n",
        "    # Recursive cases\n",
        "    if np.sign(f(a)) == np.sign(f(m)):\n",
        "        # Root is between m and b\n",
        "        return my_bisection(f, m, b, tol)\n",
        "    else:\n",
        "        # Root is between a and m\n",
        "        return my_bisection(f, a, m, tol)\n"
      ],
      "metadata": {
        "id": "QKn1ECY6x07V"
      },
      "execution_count": 2,
      "outputs": []
    },
    {
      "cell_type": "code",
      "source": [
        "from re import X\n",
        "import numpy as np\n",
        "\n",
        "f=lambda x:X**2-2\n",
        "f_prime = lambda x:2*X\n",
        "newton_raphson = 1.4-(f(1.4))/(f_prime(1.4))\n",
        "\n",
        "print(\"newton_raphson=\",newton_raphson)\n",
        "print(\"sqrt(2)=\", np.sqrt(2))"
      ],
      "metadata": {
        "colab": {
          "base_uri": "https://localhost:8080/"
        },
        "id": "zwcTwUfRy3JN",
        "outputId": "3e79b202-54a6-456d-9074-3bb17bc30f7e"
      },
      "execution_count": 3,
      "outputs": [
        {
          "output_type": "stream",
          "name": "stdout",
          "text": [
            "newton_raphson= -30.584375\n",
            "sqrt(2)= 1.4142135623730951\n"
          ]
        }
      ]
    }
  ]
}