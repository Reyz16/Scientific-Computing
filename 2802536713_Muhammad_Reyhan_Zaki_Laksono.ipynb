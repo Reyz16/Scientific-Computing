{
  "nbformat": 4,
  "nbformat_minor": 0,
  "metadata": {
    "colab": {
      "provenance": [],
      "authorship_tag": "ABX9TyNB4ilCjfoSYoG0DtukRG53",
      "include_colab_link": true
    },
    "kernelspec": {
      "name": "python3",
      "display_name": "Python 3"
    },
    "language_info": {
      "name": "python"
    }
  },
  "cells": [
    {
      "cell_type": "markdown",
      "metadata": {
        "id": "view-in-github",
        "colab_type": "text"
      },
      "source": [
        "<a href=\"https://colab.research.google.com/github/Reyz16/Scientific-Computing/blob/main/2802536713_Muhammad_Reyhan_Zaki_Laksono.ipynb\" target=\"_parent\"><img src=\"https://colab.research.google.com/assets/colab-badge.svg\" alt=\"Open In Colab\"/></a>"
      ]
    },
    {
      "cell_type": "code",
      "execution_count": null,
      "metadata": {
        "colab": {
          "base_uri": "https://localhost:8080/"
        },
        "id": "A6bLENa0HsCQ",
        "outputId": "4bfec9f8-f175-497f-b575-d81d7ddd6e7e"
      },
      "outputs": [
        {
          "output_type": "stream",
          "name": "stdout",
          "text": [
            "Thu Feb  6 02:40:07 2025\n"
          ]
        }
      ],
      "source": [
        "import time\n",
        "print(time.ctime())"
      ]
    },
    {
      "cell_type": "code",
      "source": [
        "x = 1\n",
        "x"
      ],
      "metadata": {
        "colab": {
          "base_uri": "https://localhost:8080/"
        },
        "id": "pHvwqjXDI-zI",
        "outputId": "0b944a0b-331c-439d-b225-02026dfd1dc5"
      },
      "execution_count": null,
      "outputs": [
        {
          "output_type": "execute_result",
          "data": {
            "text/plain": [
              "1"
            ]
          },
          "metadata": {},
          "execution_count": 2
        }
      ]
    },
    {
      "cell_type": "code",
      "source": [
        "x=x+1\n",
        "x"
      ],
      "metadata": {
        "colab": {
          "base_uri": "https://localhost:8080/"
        },
        "id": "56mVg2oIJeBj",
        "outputId": "d6668301-1911-4062-d54f-524665fb782e"
      },
      "execution_count": null,
      "outputs": [
        {
          "output_type": "execute_result",
          "data": {
            "text/plain": [
              "2"
            ]
          },
          "metadata": {},
          "execution_count": 3
        }
      ]
    },
    {
      "cell_type": "code",
      "source": [
        "x=x+1\n",
        "x"
      ],
      "metadata": {
        "colab": {
          "base_uri": "https://localhost:8080/"
        },
        "id": "Pct-lc1ZJveH",
        "outputId": "222ba0f7-4e5c-45e3-a967-0b3ed1446b78"
      },
      "execution_count": null,
      "outputs": [
        {
          "output_type": "execute_result",
          "data": {
            "text/plain": [
              "2"
            ]
          },
          "metadata": {},
          "execution_count": 5
        }
      ]
    },
    {
      "cell_type": "code",
      "source": [
        "x=1\n",
        "y=x+1\n",
        "x=2\n",
        "y"
      ],
      "metadata": {
        "colab": {
          "base_uri": "https://localhost:8080/"
        },
        "id": "CWZ-5ba_KCA4",
        "outputId": "91a9e56e-03f8-417a-ae73-297c7efc1738"
      },
      "execution_count": null,
      "outputs": [
        {
          "output_type": "execute_result",
          "data": {
            "text/plain": [
              "2"
            ]
          },
          "metadata": {},
          "execution_count": 6
        }
      ]
    },
    {
      "cell_type": "code",
      "source": [
        "import numpy as np"
      ],
      "metadata": {
        "id": "-ogR37gYKiyq"
      },
      "execution_count": null,
      "outputs": []
    },
    {
      "cell_type": "code",
      "source": [
        "x = np.array([1, 4, 3])\n",
        "x"
      ],
      "metadata": {
        "colab": {
          "base_uri": "https://localhost:8080/"
        },
        "id": "qnvyteEkK3dA",
        "outputId": "ffa71d57-41cc-4b11-89ab-904f55f9e2a3"
      },
      "execution_count": null,
      "outputs": [
        {
          "output_type": "execute_result",
          "data": {
            "text/plain": [
              "array([1, 4, 3])"
            ]
          },
          "metadata": {},
          "execution_count": 10
        }
      ]
    },
    {
      "cell_type": "code",
      "source": [
        "x = np.array([[1, 4, 3],[9, 2, 7]])\n",
        "x"
      ],
      "metadata": {
        "colab": {
          "base_uri": "https://localhost:8080/"
        },
        "id": "NM0xTLjnL0P3",
        "outputId": "829f7980-1254-482b-c489-3602fdd3cfff"
      },
      "execution_count": null,
      "outputs": [
        {
          "output_type": "execute_result",
          "data": {
            "text/plain": [
              "array([[1, 4, 3],\n",
              "       [9, 2, 7]])"
            ]
          },
          "metadata": {},
          "execution_count": 20
        }
      ]
    },
    {
      "cell_type": "code",
      "source": [
        "def sum(a, b, c):\n",
        "  digidaw = a + b + c\n",
        "  return digidaw"
      ],
      "metadata": {
        "id": "eHe7w9o0OGAf"
      },
      "execution_count": null,
      "outputs": []
    },
    {
      "cell_type": "code",
      "source": [
        "sum(1, 2, 3)"
      ],
      "metadata": {
        "colab": {
          "base_uri": "https://localhost:8080/"
        },
        "id": "g-DtP6EbP4so",
        "outputId": "2756c3b3-1274-4a7e-d458-72dc19aff9f2"
      },
      "execution_count": null,
      "outputs": [
        {
          "output_type": "execute_result",
          "data": {
            "text/plain": [
              "6"
            ]
          },
          "metadata": {},
          "execution_count": 34
        }
      ]
    },
    {
      "cell_type": "markdown",
      "source": [],
      "metadata": {
        "id": "dfdjtdxeSvZH"
      }
    },
    {
      "cell_type": "code",
      "source": [
        "def thermostat(temp, desire_temp):\n",
        "  if temp < desire_temp - 5:\n",
        "    status = 'heat'\n",
        "elif temp > desire temp + 5:\n",
        "    status = 'ac'\n",
        "else :\n",
        "    status = 'off'\n",
        "return status\n"
      ],
      "metadata": {
        "colab": {
          "base_uri": "https://localhost:8080/",
          "height": 106
        },
        "id": "dVkb9p5QQuNE",
        "outputId": "cea3100d-d282-44ab-c385-b15827069dab"
      },
      "execution_count": null,
      "outputs": [
        {
          "ename": "SyntaxError",
          "evalue": "invalid syntax (<ipython-input-39-2afc4ab74e16>, line 4)",
          "output_type": "error",
          "traceback": [
            "\u001b[0;36m  File \u001b[0;32m\"<ipython-input-39-2afc4ab74e16>\"\u001b[0;36m, line \u001b[0;32m4\u001b[0m\n\u001b[0;31m    elif temp > desire temp + 5:\u001b[0m\n\u001b[0m    ^\u001b[0m\n\u001b[0;31mSyntaxError\u001b[0m\u001b[0;31m:\u001b[0m invalid syntax\n"
          ]
        }
      ]
    },
    {
      "cell_type": "code",
      "source": [
        "x = 3\n",
        "if x > 1 and x < 2:\n",
        "  y = 2\n",
        "elif x < 2 and x < 4:\n",
        "  y = 4\n",
        "else:\n",
        "  y = 4\n",
        "  print(y)\n",
        "\n"
      ],
      "metadata": {
        "id": "1n2dDka6SwUk",
        "outputId": "3fdc02d9-4beb-432c-a58d-4934b915ad6a",
        "colab": {
          "base_uri": "https://localhost:8080/"
        }
      },
      "execution_count": null,
      "outputs": [
        {
          "output_type": "stream",
          "name": "stdout",
          "text": [
            "4\n"
          ]
        }
      ]
    },
    {
      "cell_type": "code",
      "source": [
        "vol = float (input(\"Masukkan nama anda : \"))\n",
        "vol"
      ],
      "metadata": {
        "id": "-UTO1WHgTmxN",
        "outputId": "dc11b7f1-b2dd-492a-b26d-147fa3922c68",
        "colab": {
          "base_uri": "https://localhost:8080/"
        }
      },
      "execution_count": null,
      "outputs": [
        {
          "name": "stdout",
          "output_type": "stream",
          "text": [
            "Masukkan nama anda : 8\n"
          ]
        },
        {
          "output_type": "execute_result",
          "data": {
            "text/plain": [
              "8.0"
            ]
          },
          "metadata": {},
          "execution_count": 42
        }
      ]
    },
    {
      "cell_type": "code",
      "source": [
        "def login():\n",
        "    password = \"Bn123\"\n",
        "\n",
        "    while True:\n",
        "        input_password = input(\"Masukkan password anda: \")\n",
        "\n",
        "        if input_password == password:\n",
        "            print(\"Login Berhasil, Selamat datang!\")\n",
        "            break\n",
        "        else:\n",
        "            print(\"Incorrect Password. Coba lagi!\")\n",
        "\n",
        "def calculate(uas, uts, asg):\n",
        "    final_score = (uas * 0.5) + (uts * 0.3) + (asg * 0.2)\n",
        "    return final_score\n",
        "\n",
        "def get_grade(score):\n",
        "    if 90 <= score <= 100:\n",
        "        return \"A\"\n",
        "    elif 85 <= score <= 89:\n",
        "        return \"A-\"\n",
        "    elif 80 <= score <= 84:\n",
        "        return \"B+\"\n",
        "    elif 75 <= score <= 79:\n",
        "        return \"B\"\n",
        "    elif 70 <= score <= 74:\n",
        "        return \"B-\"\n",
        "    elif 65 <= score <= 69:\n",
        "        return \"C\"\n",
        "    elif 50 <= score <= 64:\n",
        "        return \"D\"\n",
        "    else:\n",
        "        return \"E\"\n",
        "\n",
        "def main():\n",
        "    login()\n",
        "\n",
        "    nama_siswa = input(\"Masukkan nama siswa: \")\n",
        "    uas = int(input(\"Masukkan nilai UAS: \"))\n",
        "    uts = int(input(\"Masukkan nilai UTS: \"))\n",
        "    asg = int(input(\"Masukkan nilai Assignment: \"))\n",
        "\n",
        "    final_score = calculate(uas, uts, asg)\n",
        "    grade = get_grade(final_score)\n",
        "\n",
        "    print(\"=\"*30)\n",
        "    print(f\"Hasil perolehan nilai {nama_siswa}\")\n",
        "    print(f\"Final Score: {final_score:.1f}\")\n",
        "    print(f\"Grade: {grade}\")\n",
        "    print(\"=\"*30)\n",
        "\n",
        "if __name__ == \"__main__\":\n",
        "    main()"
      ],
      "metadata": {
        "id": "Li42TuXQWfoK"
      },
      "execution_count": null,
      "outputs": []
    },
    {
      "cell_type": "markdown",
      "source": [
        "Modul 1"
      ],
      "metadata": {
        "id": "wnBfJHPzWgAq"
      }
    },
    {
      "cell_type": "markdown",
      "source": [],
      "metadata": {
        "id": "gl3ImoieSwGX"
      }
    }
  ]
}