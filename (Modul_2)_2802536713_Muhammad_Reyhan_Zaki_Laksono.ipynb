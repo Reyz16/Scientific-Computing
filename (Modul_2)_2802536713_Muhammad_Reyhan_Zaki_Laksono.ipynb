{
  "nbformat": 4,
  "nbformat_minor": 0,
  "metadata": {
    "colab": {
      "provenance": [],
      "authorship_tag": "ABX9TyP4LdCgxNwS0Ul1SsI3qq81",
      "include_colab_link": true
    },
    "kernelspec": {
      "name": "python3",
      "display_name": "Python 3"
    },
    "language_info": {
      "name": "python"
    }
  },
  "cells": [
    {
      "cell_type": "markdown",
      "metadata": {
        "id": "view-in-github",
        "colab_type": "text"
      },
      "source": [
        "<a href=\"https://colab.research.google.com/github/Reyz16/Scientific-Computing/blob/main/(Modul_2)_2802536713_Muhammad_Reyhan_Zaki_Laksono.ipynb\" target=\"_parent\"><img src=\"https://colab.research.google.com/assets/colab-badge.svg\" alt=\"Open In Colab\"/></a>"
      ]
    },
    {
      "cell_type": "markdown",
      "source": [],
      "metadata": {
        "id": "8zgdGHPK0vp2"
      }
    },
    {
      "cell_type": "markdown",
      "source": [
        "Tugas ke-1"
      ],
      "metadata": {
        "id": "2FJd27Oh0xZE"
      }
    },
    {
      "cell_type": "code",
      "execution_count": 1,
      "metadata": {
        "colab": {
          "base_uri": "https://localhost:8080/"
        },
        "id": "hvi7cUt6zce7",
        "outputId": "f0b80cd6-6d5e-412b-b782-6e4fc8617f1f"
      },
      "outputs": [
        {
          "output_type": "stream",
          "name": "stdout",
          "text": [
            "Not converged, increase iterations.\n",
            "\n",
            "Gauss-Seidel Result: x1 = 983755514355091646190661395344157386881331125095693339622191569237898515655875968647712210944.0000, x2 = 2951266543065274938571984186032472160643993375287080018866574707713695546967627905943136632832.0000, x3 = -8853799629195825278884309507362198176215920160612871469679662785703342798733219749481928458240.0000\n",
            "\n",
            "NumPy Solution:\n",
            "x1 = 0.6500, x2 = 4.1500, x3 = 3.7500\n"
          ]
        }
      ],
      "source": [
        "import numpy as Febrivia\n",
        "\n",
        "A = Febrivia.array([[2, 3, -1],\n",
        "                    [1, -1, 2],\n",
        "                    [3, 2, 1]])\n",
        "\n",
        "b = Febrivia.array([10, 4, 14])\n",
        "\n",
        "x1, x2, x3 = 5, 5, 5\n",
        "epsilon = 0.001\n",
        "converged = False\n",
        "x_old = Febrivia.array([x1, x2, x3])\n",
        "\n",
        "for k in range(1, 100):\n",
        "    x1 = (10 - 3 * x2 + x3) / 2\n",
        "    x2 = (4 - x1 - 2 * x3) / (-1)\n",
        "    x3 = (14 - 3 * x1 - 2 * x2) / 1\n",
        "\n",
        "    x_new = Febrivia.array([x1, x2, x3])\n",
        "    dx = Febrivia.sqrt(Febrivia.dot(x_new - x_old, x_new - x_old))\n",
        "\n",
        "    if dx < epsilon:\n",
        "        converged = True\n",
        "        print(\"Converged.\")\n",
        "        break\n",
        "\n",
        "    x_old = x_new\n",
        "\n",
        "if not converged:\n",
        "    print(\"Not converged, increase iterations.\")\n",
        "\n",
        "print(f\"\\nGauss-Seidel Result: x1 = {x1:.4f}, x2 = {x2:.4f}, x3 = {x3:.4f}\")\n",
        "\n",
        "x_numpy = Febrivia.linalg.solve(A, b)\n",
        "\n",
        "print(\"\\nNumPy Solution:\")\n",
        "print(f\"x1 = {x_numpy[0]:.4f}, x2 = {x_numpy[1]:.4f}, x3 = {x_numpy[2]:.4f}\")\n"
      ]
    },
    {
      "cell_type": "markdown",
      "source": [
        "Ke-2"
      ],
      "metadata": {
        "id": "t3Mv2qVm0qes"
      }
    },
    {
      "cell_type": "code",
      "source": [
        "import numpy as Flyn\n",
        "\n",
        "A = Flyn.array([\n",
        "    [3, -0.1, -0.2],\n",
        "    [0.1, 7, -0.3],\n",
        "    [0.3, -0.2, 10]\n",
        "])\n",
        "\n",
        "b = Flyn.array([7.85, -19.3, 71.4])\n",
        "\n",
        "x1, x2, x3 = 1, 2, 3\n",
        "epsilon = 0.001\n",
        "converged = False\n",
        "x_old = Flyn.array([x1, x2, x3])\n",
        "\n",
        "for k in range(1, 100):\n",
        "    x1 = (7.85 + 0.1 * x2 + 0.2 * x3) / 3\n",
        "    x2 = (-19.3 - 0.1 * x1 + 0.3 * x3) / 7\n",
        "    x3 = (71.4 - 0.3 * x1 + 0.2 * x2) / 10\n",
        "\n",
        "    x_new = Flyn.array([x1, x2, x3])\n",
        "    dx = Flyn.sqrt(Flyn.dot(x_new - x_old, x_new - x_old))\n",
        "\n",
        "    if dx < epsilon:\n",
        "        converged = True\n",
        "        print(\"Converged.\")\n",
        "        break\n",
        "\n",
        "    x_old = x_new\n",
        "\n",
        "if not converged:\n",
        "    print(\"Not converged, increase iterations.\")\n",
        "\n",
        "print(f\"\\nGauss-Seidel Result: x1 = {x1:.4f}, x2 = {x2:.4f}, x3 = {x3:.4f}\")\n",
        "\n",
        "x_flyn = Flyn.linalg.solve(A, b)\n",
        "\n",
        "print(\"\\nNumPy Solution:\")\n",
        "print(f\"x1 = {x_flyn[0]:.4f}, x2 = {x_flyn[1]:.4f}, x3 = {x_flyn[2]:.4f}\")\n"
      ],
      "metadata": {
        "colab": {
          "base_uri": "https://localhost:8080/"
        },
        "id": "7_JlkiLS00v0",
        "outputId": "7418d000-d1f9-418f-f6e4-e5c75705a9d9"
      },
      "execution_count": 2,
      "outputs": [
        {
          "output_type": "stream",
          "name": "stdout",
          "text": [
            "Converged.\n",
            "\n",
            "Gauss-Seidel Result: x1 = 3.0000, x2 = -2.5000, x3 = 7.0000\n",
            "\n",
            "NumPy Solution:\n",
            "x1 = 3.0000, x2 = -2.5000, x3 = 7.0000\n"
          ]
        }
      ]
    },
    {
      "cell_type": "markdown",
      "source": [
        "Tugas ke-3"
      ],
      "metadata": {
        "id": "YfSGOsCF1M03"
      }
    },
    {
      "cell_type": "code",
      "source": [
        "import numpy as np\n",
        "import matplotlib.pyplot as plt\n",
        "\n",
        "def hitung_koefisien_regresi(x, y):\n",
        "    n = len(x)\n",
        "    sum_x, sum_y = np.sum(x), np.sum(y)\n",
        "    sum_xy, sum_x2 = np.sum(x * y), np.sum(x ** 2)\n",
        "    a = (n * sum_xy - sum_x * sum_y) / (n * sum_x2 - sum_x ** 2)\n",
        "    b = (sum_y - a * sum_x) / n\n",
        "    return a, b\n",
        "\n",
        "def plot_regresi(x, y, a, b):\n",
        "    x_line = np.linspace(min(x) - 1, max(x) + 1, 100)\n",
        "    y_line = a * x_line + b\n",
        "    plt.figure(figsize=(8, 5))\n",
        "    plt.scatter(x, y, color='red')\n",
        "    plt.plot(x_line, y_line, color='blue')\n",
        "    plt.show()\n",
        "\n",
        "x = np.array([5, 4, 6, 7, 5])\n",
        "y = np.array([10, 8, 12, 14, 10])\n",
        "\n",
        "a, b = hitung_koefisien_regresi(x, y)\n",
        "print(f\"y = {a:.2f}x + {b:.2f}\")\n",
        "plot_regresi(x, y, a, b)\n"
      ],
      "metadata": {
        "colab": {
          "base_uri": "https://localhost:8080/",
          "height": 462
        },
        "id": "Uc-NZAt91PoD",
        "outputId": "bb463900-3d0c-4079-d437-3203fa30f952"
      },
      "execution_count": 3,
      "outputs": [
        {
          "output_type": "stream",
          "name": "stdout",
          "text": [
            "y = 2.00x + 0.00\n"
          ]
        },
        {
          "output_type": "display_data",
          "data": {
            "text/plain": [
              "<Figure size 800x500 with 1 Axes>"
            ],
            "image/png": "[encoded data removed]"
          },
          "metadata": {}
        }
      ]
    }
  ]
}